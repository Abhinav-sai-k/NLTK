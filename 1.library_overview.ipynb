{
 "cells": [
  {
   "cell_type": "code",
   "execution_count": 1,
   "id": "63befb8f",
   "metadata": {},
   "outputs": [],
   "source": [
    "with open('example.txt','w') as file:\n",
    "    file.write('First line/nsecond line /n')"
   ]
  },
  {
   "cell_type": "code",
   "execution_count": 8,
   "id": "b9e7e9ec",
   "metadata": {},
   "outputs": [],
   "source": [
    "with open('summary.txt','w') as pt:\n",
    "    pt.write('Data engineering is a critical function in modern data-driven organizations. It involves designing, building, and maintaining scalable systems for collecting, storing, and analyzing data efficiently. A good data engineer understands distributed systems, data modeling, ETL pipelines, and cloud infrastructure. These skills ensure that data is accurate, accessible, and secure for downstream analytics and machine learning workflows.')"
   ]
  },
  {
   "cell_type": "code",
   "execution_count": 25,
   "id": "07daf4f7",
   "metadata": {},
   "outputs": [
    {
     "name": "stdout",
     "output_type": "stream",
     "text": [
      "<class 'str'>\n",
      "Data engineering is a critical function in modern data-driven organizations. It involves designing, building, and maintaining scalable systems for collecting, storing, and analyzing data efficiently. A good data engineer understands distributed systems, data modeling, ETL pipelines, and cloud infrastructure. These skills ensure that data is accurate, accessible, and secure for downstream analytics and machine learning workflows.\n",
      "<class 'list'>\n",
      "[]\n"
     ]
    }
   ],
   "source": [
    "with open('summary.txt','r') as pt:\n",
    "    lines = pt.read()\n",
    "    print(type(lines))\n",
    "    print(lines)\n",
    "    \n",
    "    lines = pt.readlines()\n",
    "    print(type(lines))\n",
    "    print(lines)   # seeker moved forward!"
   ]
  },
  {
   "cell_type": "code",
   "execution_count": 58,
   "id": "04861a70",
   "metadata": {},
   "outputs": [
    {
     "name": "stdout",
     "output_type": "stream",
     "text": [
      "No of lines = 4\n",
      "Data engineering is a critical function in modern data-driven organizations.\n",
      "\n",
      "It involves designing, building, and maintaining scalable systems for collecting, storing, and analyzing data efficiently.\n",
      "\n",
      "A good data engineer understands distributed systems, data modeling, ETL pipelines, and cloud infrastructure. \n",
      "\n",
      "These skills ensure that data is accurate, accessible, and secure for downstream analytics and machine learning workflows.\n",
      "************************************************************************************************************************\n",
      "No of words = 56\n",
      "1:Data\n",
      "2:engineering\n",
      "3:is\n",
      "4:a\n",
      "5:critical\n",
      "6:function\n",
      "7:in\n",
      "8:modern\n",
      "9:data-driven\n",
      "10:organizations.\n",
      "11:It\n",
      "12:involves\n",
      "13:designing,\n",
      "14:building,\n",
      "15:and\n",
      "16:maintaining\n",
      "17:scalable\n",
      "18:systems\n",
      "19:for\n",
      "20:collecting,\n",
      "21:storing,\n",
      "22:and\n",
      "23:analyzing\n",
      "24:data\n",
      "25:efficiently.\n",
      "26:A\n",
      "27:good\n",
      "28:data\n",
      "29:engineer\n",
      "30:understands\n",
      "31:distributed\n",
      "32:systems,\n",
      "33:data\n",
      "34:modeling,\n",
      "35:ETL\n",
      "36:pipelines,\n",
      "37:and\n",
      "38:cloud\n",
      "39:infrastructure.\n",
      "40:These\n",
      "41:skills\n",
      "42:ensure\n",
      "43:that\n",
      "44:data\n",
      "45:is\n",
      "46:accurate,\n",
      "47:accessible,\n",
      "48:and\n",
      "49:secure\n",
      "50:for\n",
      "51:downstream\n",
      "52:analytics\n",
      "53:and\n",
      "54:machine\n",
      "55:learning\n",
      "56:workflows.\n",
      "************************************************************************************************************************\n",
      "No of characters with space : 433\n",
      "No of characters without space :377\n"
     ]
    }
   ],
   "source": [
    "# Write a python program to count no of characters, words and lines in a passage/paragraph. \n",
    "\n",
    "with open('summary1.txt','r') as pt:\n",
    "    # lines = pt.read()\n",
    "    # print(type(lines))\n",
    "    # print(lines)\n",
    "    \n",
    "    lines = pt.readlines()\n",
    "    print(f'No of lines = {len(lines)}')\n",
    "    for line in lines:\n",
    "        print(line)\n",
    "    print(\"*\"*120)\n",
    "    \n",
    "    print(f'No of words = {sum([len(x.split()) for x in lines])}')\n",
    "    counter = 0\n",
    "    chars = 0\n",
    "    for x in lines:\n",
    "        for y in x.split():\n",
    "            counter+=1\n",
    "            chars +=len(y)\n",
    "            print(f'{counter}:{y}')\n",
    "    print(\"*\"*120)\n",
    "    print(f'No of characters with space : {sum([len(line) for line in lines])}')\n",
    "    print(f\"No of characters without space :{chars}\")\n",
    "    "
   ]
  },
  {
   "cell_type": "code",
   "execution_count": null,
   "id": "53b616a0",
   "metadata": {},
   "outputs": [],
   "source": [
    "import os"
   ]
  },
  {
   "cell_type": "code",
   "execution_count": 12,
   "id": "a6bd016f",
   "metadata": {},
   "outputs": [
    {
     "name": "stdout",
     "output_type": "stream",
     "text": [
      "Exception found : division by zero\n"
     ]
    }
   ],
   "source": [
    "try :\n",
    "    1/0\n",
    "except Exception as ex:\n",
    "    print(f\"Exception found : {ex}\")\n",
    "    "
   ]
  },
  {
   "cell_type": "code",
   "execution_count": 1,
   "id": "39cb0153",
   "metadata": {},
   "outputs": [
    {
     "data": {
      "text/plain": [
       "56"
      ]
     },
     "execution_count": 1,
     "metadata": {},
     "output_type": "execute_result"
    }
   ],
   "source": [
    "int(input('Enter a number '))"
   ]
  },
  {
   "cell_type": "code",
   "execution_count": null,
   "id": "8a214038",
   "metadata": {},
   "outputs": [],
   "source": []
  }
 ],
 "metadata": {
  "kernelspec": {
   "display_name": "base",
   "language": "python",
   "name": "python3"
  },
  "language_info": {
   "codemirror_mode": {
    "name": "ipython",
    "version": 3
   },
   "file_extension": ".py",
   "mimetype": "text/x-python",
   "name": "python",
   "nbconvert_exporter": "python",
   "pygments_lexer": "ipython3",
   "version": "3.12.7"
  }
 },
 "nbformat": 4,
 "nbformat_minor": 5
}
