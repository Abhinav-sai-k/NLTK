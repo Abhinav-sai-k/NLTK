{
 "cells": [
  {
   "cell_type": "markdown",
   "id": "a6ded34b",
   "metadata": {},
   "source": [
    "# 1) porter stemmer "
   ]
  },
  {
   "cell_type": "code",
   "execution_count": null,
   "id": "4a345f38",
   "metadata": {},
   "outputs": [],
   "source": [
    "\n",
    "from nltk.stem import PorterStemmer\n",
    "\n",
    "stemming = PorterStemmer()"
   ]
  },
  {
   "cell_type": "code",
   "execution_count": 26,
   "id": "4f680a45",
   "metadata": {},
   "outputs": [],
   "source": [
    "lst  =['eat','eaten','eating','beat','dubious','repeat','writing','wrote','programming','programed','coding','code','sorted','sorting','halucinating','sportingly','fairly','casually']"
   ]
  },
  {
   "cell_type": "code",
   "execution_count": 27,
   "id": "46472bf2",
   "metadata": {},
   "outputs": [
    {
     "name": "stdout",
     "output_type": "stream",
     "text": [
      "eat--->eat\n",
      "eaten--->eaten\n",
      "eating--->eat\n",
      "beat--->beat\n",
      "dubious--->dubiou\n",
      "repeat--->repeat\n",
      "writing--->write\n",
      "wrote--->wrote\n",
      "programming--->program\n",
      "programed--->program\n",
      "coding--->code\n",
      "code--->code\n",
      "sorted--->sort\n",
      "sorting--->sort\n",
      "halucinating--->halucin\n",
      "sportingly--->sportingli\n",
      "fairly--->fairli\n",
      "casually--->casual\n"
     ]
    }
   ],
   "source": [
    "for i in lst:\n",
    "    print(f'{i}--->{stemming.stem(i)}')"
   ]
  },
  {
   "cell_type": "markdown",
   "id": "3197f517",
   "metadata": {},
   "source": [
    "# 2) Regex stemmer"
   ]
  },
  {
   "cell_type": "code",
   "execution_count": 28,
   "id": "44838caa",
   "metadata": {},
   "outputs": [],
   "source": [
    "from nltk.stem import RegexpStemmer\n"
   ]
  },
  {
   "cell_type": "code",
   "execution_count": 29,
   "id": "d8b36e84",
   "metadata": {},
   "outputs": [],
   "source": [
    "reg_stemming = RegexpStemmer('ing$|s$|e$|able$',min=4)"
   ]
  },
  {
   "cell_type": "code",
   "execution_count": 30,
   "id": "8ff54c0b",
   "metadata": {},
   "outputs": [
    {
     "data": {
      "text/plain": [
       "'chok'"
      ]
     },
     "execution_count": 30,
     "metadata": {},
     "output_type": "execute_result"
    }
   ],
   "source": [
    "reg_stemming.stem('choking')"
   ]
  },
  {
   "cell_type": "code",
   "execution_count": 31,
   "id": "47bfc12b",
   "metadata": {},
   "outputs": [
    {
     "name": "stdout",
     "output_type": "stream",
     "text": [
      "eat===>eat\n",
      "eaten===>eaten\n",
      "eating===>eat\n",
      "beat===>beat\n",
      "dubious===>dubiou\n",
      "repeat===>repeat\n",
      "writing===>writ\n",
      "wrote===>wrot\n",
      "programming===>programm\n",
      "programed===>programed\n",
      "coding===>cod\n",
      "code===>cod\n",
      "sorted===>sorted\n",
      "sorting===>sort\n",
      "halucinating===>halucinat\n",
      "sportingly===>sportingly\n",
      "fairly===>fairly\n",
      "casually===>casually\n"
     ]
    }
   ],
   "source": [
    "for word in lst:\n",
    "    print(f\"{word}===>{reg_stemming.stem(word)}\")"
   ]
  },
  {
   "cell_type": "markdown",
   "id": "7560709d",
   "metadata": {},
   "source": [
    "# 3) Snowball stemmer"
   ]
  },
  {
   "cell_type": "code",
   "execution_count": 32,
   "id": "db325279",
   "metadata": {},
   "outputs": [],
   "source": [
    "from nltk.stem import SnowballStemmer\n",
    "snow_stemmer = SnowballStemmer(language='english')"
   ]
  },
  {
   "cell_type": "code",
   "execution_count": 33,
   "id": "fa03c9fd",
   "metadata": {},
   "outputs": [
    {
     "name": "stdout",
     "output_type": "stream",
     "text": [
      "eat===>eat\n",
      "eaten===>eaten\n",
      "eating===>eat\n",
      "beat===>beat\n",
      "dubious===>dubious\n",
      "repeat===>repeat\n",
      "writing===>write\n",
      "wrote===>wrote\n",
      "programming===>program\n",
      "programed===>program\n",
      "coding===>code\n",
      "code===>code\n",
      "sorted===>sort\n",
      "sorting===>sort\n",
      "halucinating===>halucin\n",
      "sportingly===>sport\n",
      "fairly===>fair\n",
      "casually===>casual\n"
     ]
    }
   ],
   "source": [
    "for word in lst:\n",
    "    print(f\"{word}===>{snow_stemmer.stem(word)}\")"
   ]
  },
  {
   "cell_type": "markdown",
   "id": "89ac3844",
   "metadata": {},
   "source": [
    "# Lemmatization"
   ]
  },
  {
   "cell_type": "code",
   "execution_count": 34,
   "id": "d3d0e24e",
   "metadata": {},
   "outputs": [],
   "source": [
    "from nltk.stem import WordNetLemmatizer\n",
    "lemmatizer = WordNetLemmatizer()"
   ]
  },
  {
   "cell_type": "markdown",
   "id": "d4b98641",
   "metadata": {},
   "source": [
    "Parameters\n",
    "word : str\n",
    "The input word to lemmatize.\n",
    "\n",
    "pos : str\n",
    "The Part Of Speech tag. Valid options are \"n\" for nouns, \"v\" for verbs, \"a\" for adjectives, \"r\" for adverbs and \"s\" for satellite adjectives.\n",
    "\n",
    "Returns\n",
    "out\n",
    "The shortest lemma of word, for the given pos"
   ]
  },
  {
   "cell_type": "code",
   "execution_count": 36,
   "id": "3215575a",
   "metadata": {},
   "outputs": [
    {
     "data": {
      "text/plain": [
       "'sparring'"
      ]
     },
     "execution_count": 36,
     "metadata": {},
     "output_type": "execute_result"
    }
   ],
   "source": [
    "lemmatizer.lemmatize('sparring')"
   ]
  },
  {
   "cell_type": "code",
   "execution_count": 43,
   "id": "cbc515c0",
   "metadata": {},
   "outputs": [
    {
     "name": "stdout",
     "output_type": "stream",
     "text": [
      "noun==>eat===>eat\n",
      "verb==>eat===>eat\n",
      "Adjective==>eat===>eat\n",
      "Adverb==>eat===>eat\n",
      "Satellite Adjective==>eat===>eat\n",
      "\n",
      "noun==>eaten===>eaten\n",
      "verb==>eaten===>eat\n",
      "Adjective==>eaten===>eaten\n",
      "Adverb==>eaten===>eaten\n",
      "Satellite Adjective==>eaten===>eaten\n",
      "\n",
      "noun==>eating===>eating\n",
      "verb==>eating===>eat\n",
      "Adjective==>eating===>eating\n",
      "Adverb==>eating===>eating\n",
      "Satellite Adjective==>eating===>eating\n",
      "\n",
      "noun==>beat===>beat\n",
      "verb==>beat===>beat\n",
      "Adjective==>beat===>beat\n",
      "Adverb==>beat===>beat\n",
      "Satellite Adjective==>beat===>beat\n",
      "\n",
      "noun==>dubious===>dubious\n",
      "verb==>dubious===>dubious\n",
      "Adjective==>dubious===>dubious\n",
      "Adverb==>dubious===>dubious\n",
      "Satellite Adjective==>dubious===>dubious\n",
      "\n",
      "noun==>repeat===>repeat\n",
      "verb==>repeat===>repeat\n",
      "Adjective==>repeat===>repeat\n",
      "Adverb==>repeat===>repeat\n",
      "Satellite Adjective==>repeat===>repeat\n",
      "\n",
      "noun==>writing===>writing\n",
      "verb==>writing===>write\n",
      "Adjective==>writing===>writing\n",
      "Adverb==>writing===>writing\n",
      "Satellite Adjective==>writing===>writing\n",
      "\n",
      "noun==>wrote===>wrote\n",
      "verb==>wrote===>write\n",
      "Adjective==>wrote===>wrote\n",
      "Adverb==>wrote===>wrote\n",
      "Satellite Adjective==>wrote===>wrote\n",
      "\n",
      "noun==>programming===>programming\n",
      "verb==>programming===>program\n",
      "Adjective==>programming===>programming\n",
      "Adverb==>programming===>programming\n",
      "Satellite Adjective==>programming===>programming\n",
      "\n",
      "noun==>programed===>programed\n",
      "verb==>programed===>program\n",
      "Adjective==>programed===>programed\n",
      "Adverb==>programed===>programed\n",
      "Satellite Adjective==>programed===>programed\n",
      "\n",
      "noun==>coding===>coding\n",
      "verb==>coding===>cod\n",
      "Adjective==>coding===>coding\n",
      "Adverb==>coding===>coding\n",
      "Satellite Adjective==>coding===>coding\n",
      "\n",
      "noun==>code===>code\n",
      "verb==>code===>code\n",
      "Adjective==>code===>code\n",
      "Adverb==>code===>code\n",
      "Satellite Adjective==>code===>code\n",
      "\n",
      "noun==>sorted===>sorted\n",
      "verb==>sorted===>sort\n",
      "Adjective==>sorted===>sorted\n",
      "Adverb==>sorted===>sorted\n",
      "Satellite Adjective==>sorted===>sorted\n",
      "\n",
      "noun==>sorting===>sorting\n",
      "verb==>sorting===>sort\n",
      "Adjective==>sorting===>sorting\n",
      "Adverb==>sorting===>sorting\n",
      "Satellite Adjective==>sorting===>sorting\n",
      "\n",
      "noun==>halucinating===>halucinating\n",
      "verb==>halucinating===>halucinating\n",
      "Adjective==>halucinating===>halucinating\n",
      "Adverb==>halucinating===>halucinating\n",
      "Satellite Adjective==>halucinating===>halucinating\n",
      "\n",
      "noun==>sportingly===>sportingly\n",
      "verb==>sportingly===>sportingly\n",
      "Adjective==>sportingly===>sportingly\n",
      "Adverb==>sportingly===>sportingly\n",
      "Satellite Adjective==>sportingly===>sportingly\n",
      "\n",
      "noun==>fairly===>fairly\n",
      "verb==>fairly===>fairly\n",
      "Adjective==>fairly===>fairly\n",
      "Adverb==>fairly===>fairly\n",
      "Satellite Adjective==>fairly===>fairly\n",
      "\n",
      "noun==>casually===>casually\n",
      "verb==>casually===>casually\n",
      "Adjective==>casually===>casually\n",
      "Adverb==>casually===>casually\n",
      "Satellite Adjective==>casually===>casually\n",
      "\n"
     ]
    }
   ],
   "source": [
    "for word in lst:\n",
    "    print(f\"{'noun'}==>{word}===>{lemmatizer.lemmatize(word)}\")  #Default pos is noun\n",
    "    print(f\"{'verb'}==>{word}===>{lemmatizer.lemmatize(word,pos='v')}\")  #Default pos is noun\n",
    "    print(f\"{'Adjective'}==>{word}===>{lemmatizer.lemmatize(word,pos='a')}\")  #Default pos is noun\n",
    "    print(f\"{'Adverb'}==>{word}===>{lemmatizer.lemmatize(word,pos='r')}\")  #Default pos is noun\n",
    "    print(f\"{'Satellite Adjective'}==>{word}===>{lemmatizer.lemmatize(word,pos='s')}\\n\")  #Default pos is \n",
    "    \n",
    "    \n",
    "    \n",
    "    "
   ]
  },
  {
   "cell_type": "code",
   "execution_count": null,
   "id": "6a110b09",
   "metadata": {},
   "outputs": [],
   "source": []
  }
 ],
 "metadata": {
  "kernelspec": {
   "display_name": "ml_venv",
   "language": "python",
   "name": "python3"
  },
  "language_info": {
   "codemirror_mode": {
    "name": "ipython",
    "version": 3
   },
   "file_extension": ".py",
   "mimetype": "text/x-python",
   "name": "python",
   "nbconvert_exporter": "python",
   "pygments_lexer": "ipython3",
   "version": "3.10.10"
  }
 },
 "nbformat": 4,
 "nbformat_minor": 5
}
