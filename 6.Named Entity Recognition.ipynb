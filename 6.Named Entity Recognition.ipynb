{
 "cells": [
  {
   "cell_type": "code",
   "execution_count": 1,
   "id": "fcaa06d4",
   "metadata": {},
   "outputs": [],
   "source": [
    "from nltk.stem import SnowballStemmer,WordNetLemmatizer\n",
    "from nltk import pos_tag\n",
    "from nltk.corpus import stopwords\n",
    "from nltk import ne_chunk\n",
    "\n",
    "stemmer = SnowballStemmer(language='english')\n",
    "lemmatizer = WordNetLemmatizer()"
   ]
  },
  {
   "cell_type": "code",
   "execution_count": 2,
   "id": "cb2367cb",
   "metadata": {},
   "outputs": [],
   "source": [
    "with open('named_entities.txt','r') as ptr:\n",
    "    corpus = ptr.read()"
   ]
  },
  {
   "cell_type": "code",
   "execution_count": 3,
   "id": "c8ac0638",
   "metadata": {},
   "outputs": [
    {
     "name": "stdout",
     "output_type": "stream",
     "text": [
      "['Barack Obama was born in Honolulu, Hawaii, on August 4, 1961.', 'He served as the 44th President of the United States from 2009 to 2017.', 'In 2009, he delivered the Nobel Peace Prize acceptance speech in Oslo, Norway.', 'Microsoft announced the acquisition of GitHub for $7.5 billion in June 2018.', 'Elon Musk founded SpaceX in 2002 and later became CEO of Tesla, Inc., based in Palo Alto, California.', 'The Eiffel Tower is located in Paris, France, and was completed in 1889.', 'Marie Curie won the Nobel Prize in Chemistry in 1911 for her research on radioactivity.', 'Amazon’s headquarters are in Seattle, Washington, and Jeff Bezos stepped down as CEO in July 2021.']\n"
     ]
    }
   ],
   "source": [
    "from nltk.tokenize import sent_tokenize,word_tokenize\n",
    "\n",
    "corpus = sent_tokenize(corpus)\n",
    "print(corpus)"
   ]
  },
  {
   "cell_type": "code",
   "execution_count": 4,
   "id": "f5370269",
   "metadata": {},
   "outputs": [
    {
     "name": "stdout",
     "output_type": "stream",
     "text": [
      "['Barack', 'Obama', 'was', 'born', 'in', 'Honolulu', ',', 'Hawaii', ',', 'on', 'August', '4', ',', '1961', '.', 'He', 'served', 'as', 'the', '44th', 'President', 'of', 'the', 'United', 'States', 'from', '2009', 'to', '2017', '.', 'In', '2009', ',', 'he', 'delivered', 'the', 'Nobel', 'Peace', 'Prize', 'acceptance', 'speech', 'in', 'Oslo', ',', 'Norway', '.', 'Microsoft', 'announced', 'the', 'acquisition', 'of', 'GitHub', 'for', '$', '7.5', 'billion', 'in', 'June', '2018', '.', 'Elon', 'Musk', 'founded', 'SpaceX', 'in', '2002', 'and', 'later', 'became', 'CEO', 'of', 'Tesla', ',', 'Inc.', ',', 'based', 'in', 'Palo', 'Alto', ',', 'California', '.', 'The', 'Eiffel', 'Tower', 'is', 'located', 'in', 'Paris', ',', 'France', ',', 'and', 'was', 'completed', 'in', '1889', '.', 'Marie', 'Curie', 'won', 'the', 'Nobel', 'Prize', 'in', 'Chemistry', 'in', '1911', 'for', 'her', 'research', 'on', 'radioactivity', '.', 'Amazon', '’', 's', 'headquarters', 'are', 'in', 'Seattle', ',', 'Washington', ',', 'and', 'Jeff', 'Bezos', 'stepped', 'down', 'as', 'CEO', 'in', 'July', '2021', '.']\n"
     ]
    }
   ],
   "source": [
    "words = []\n",
    "for sens in corpus:  #sens is short for sentences or use docs(please maintain logic to named conventions...it's handy when you return to code that you worked)\n",
    "    words.extend(word_tokenize(sens))\n",
    "print(words)"
   ]
  },
  {
   "cell_type": "code",
   "execution_count": 8,
   "id": "4f688ad1",
   "metadata": {},
   "outputs": [
    {
     "name": "stdout",
     "output_type": "stream",
     "text": [
      "[('Barack', 'NNP'), ('Obama', 'NNP'), ('was', 'VBD'), ('born', 'VBN'), ('in', 'IN'), ('Honolulu', 'NNP'), (',', ','), ('Hawaii', 'NNP'), (',', ','), ('on', 'IN'), ('August', 'NNP'), ('4', 'CD'), (',', ','), ('1961', 'CD'), ('.', '.'), ('He', 'PRP'), ('served', 'VBD'), ('as', 'IN'), ('the', 'DT'), ('44th', 'CD'), ('President', 'NNP'), ('of', 'IN'), ('the', 'DT'), ('United', 'NNP'), ('States', 'NNPS'), ('from', 'IN'), ('2009', 'CD'), ('to', 'TO'), ('2017', 'CD'), ('.', '.'), ('In', 'IN'), ('2009', 'CD'), (',', ','), ('he', 'PRP'), ('delivered', 'VBD'), ('the', 'DT'), ('Nobel', 'NNP'), ('Peace', 'NNP'), ('Prize', 'NNP'), ('acceptance', 'NN'), ('speech', 'NN'), ('in', 'IN'), ('Oslo', 'NNP'), (',', ','), ('Norway', 'NNP'), ('.', '.'), ('Microsoft', 'NNP'), ('announced', 'VBD'), ('the', 'DT'), ('acquisition', 'NN'), ('of', 'IN'), ('GitHub', 'NNP'), ('for', 'IN'), ('$', '$'), ('7.5', 'CD'), ('billion', 'CD'), ('in', 'IN'), ('June', 'NNP'), ('2018', 'CD'), ('.', '.'), ('Elon', 'NNP'), ('Musk', 'NNP'), ('founded', 'VBD'), ('SpaceX', 'NNP'), ('in', 'IN'), ('2002', 'CD'), ('and', 'CC'), ('later', 'RB'), ('became', 'VBD'), ('CEO', 'NNP'), ('of', 'IN'), ('Tesla', 'NNP'), (',', ','), ('Inc.', 'NNP'), (',', ','), ('based', 'VBN'), ('in', 'IN'), ('Palo', 'NNP'), ('Alto', 'NNP'), (',', ','), ('California', 'NNP'), ('.', '.'), ('The', 'DT'), ('Eiffel', 'NNP'), ('Tower', 'NNP'), ('is', 'VBZ'), ('located', 'VBN'), ('in', 'IN'), ('Paris', 'NNP'), (',', ','), ('France', 'NNP'), (',', ','), ('and', 'CC'), ('was', 'VBD'), ('completed', 'VBN'), ('in', 'IN'), ('1889', 'CD'), ('.', '.'), ('Marie', 'NNP'), ('Curie', 'NNP'), ('won', 'VBD'), ('the', 'DT'), ('Nobel', 'NNP'), ('Prize', 'NNP'), ('in', 'IN'), ('Chemistry', 'NNP'), ('in', 'IN'), ('1911', 'CD'), ('for', 'IN'), ('her', 'PRP$'), ('research', 'NN'), ('on', 'IN'), ('radioactivity', 'NN'), ('.', '.'), ('Amazon', 'NNP'), ('’', 'NNP'), ('s', 'NN'), ('headquarters', 'NNS'), ('are', 'VBP'), ('in', 'IN'), ('Seattle', 'NNP'), (',', ','), ('Washington', 'NNP'), (',', ','), ('and', 'CC'), ('Jeff', 'NNP'), ('Bezos', 'NNP'), ('stepped', 'VBD'), ('down', 'RB'), ('as', 'RB'), ('CEO', 'NNP'), ('in', 'IN'), ('July', 'NNP'), ('2021', 'CD'), ('.', '.')]\n"
     ]
    }
   ],
   "source": [
    "words_tags = pos_tag(words)\n",
    "print(words_tags)"
   ]
  },
  {
   "cell_type": "code",
   "execution_count": 6,
   "id": "d046a6f8",
   "metadata": {},
   "outputs": [
    {
     "name": "stderr",
     "output_type": "stream",
     "text": [
      "[nltk_data] Downloading package maxent_ne_chunker_tab to\n",
      "[nltk_data]     C:\\Users\\91951\\AppData\\Roaming\\nltk_data...\n",
      "[nltk_data]   Package maxent_ne_chunker_tab is already up-to-date!\n",
      "[nltk_data] Downloading package words to\n",
      "[nltk_data]     C:\\Users\\91951\\AppData\\Roaming\\nltk_data...\n",
      "[nltk_data]   Package words is already up-to-date!\n"
     ]
    },
    {
     "data": {
      "text/plain": [
       "True"
      ]
     },
     "execution_count": 6,
     "metadata": {},
     "output_type": "execute_result"
    }
   ],
   "source": [
    "import nltk\n",
    "nltk.download('maxent_ne_chunker_tab')\n",
    "nltk.download('words')"
   ]
  },
  {
   "cell_type": "code",
   "execution_count": 7,
   "id": "7f85974c",
   "metadata": {},
   "outputs": [],
   "source": [
    "nltk.ne_chunk(words_tags).draw()"
   ]
  },
  {
   "cell_type": "code",
   "execution_count": null,
   "id": "c281e68b",
   "metadata": {},
   "outputs": [],
   "source": []
  }
 ],
 "metadata": {
  "kernelspec": {
   "display_name": "ml_venv",
   "language": "python",
   "name": "python3"
  },
  "language_info": {
   "codemirror_mode": {
    "name": "ipython",
    "version": 3
   },
   "file_extension": ".py",
   "mimetype": "text/x-python",
   "name": "python",
   "nbconvert_exporter": "python",
   "pygments_lexer": "ipython3",
   "version": "3.10.10"
  }
 },
 "nbformat": 4,
 "nbformat_minor": 5
}
