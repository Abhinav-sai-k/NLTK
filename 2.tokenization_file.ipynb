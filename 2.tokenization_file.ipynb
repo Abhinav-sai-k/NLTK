{
 "cells": [
  {
   "cell_type": "code",
   "execution_count": 28,
   "id": "60a736f8",
   "metadata": {},
   "outputs": [
    {
     "name": "stdout",
     "output_type": "stream",
     "text": [
      "Hello team,\n",
      "I hope you find this message well.\n",
      "I'm a GenAI Engineer looking for C2C roles with 7yr of IT exposure and consulting expertise. I have developed Generative AI solutions like Rag systems architecture, LLM usecases and chatbots for information retrival. \n",
      "Lmk a good to connect for a quick intelluctual conversation on GenAI.\n",
      "\n",
      "Thanks and regards,\n",
      "Abhi \n"
     ]
    }
   ],
   "source": [
    "with open('token_text.txt','r') as pt:\n",
    "    corpus = pt.read()\n",
    "    print(corpus)"
   ]
  },
  {
   "cell_type": "code",
   "execution_count": null,
   "id": "8c3fc38f",
   "metadata": {},
   "outputs": [],
   "source": []
  },
  {
   "cell_type": "code",
   "execution_count": 29,
   "id": "6846d619",
   "metadata": {},
   "outputs": [
    {
     "name": "stderr",
     "output_type": "stream",
     "text": [
      "[nltk_data] Downloading package punkt_tab to\n",
      "[nltk_data]     C:\\Users\\91951\\AppData\\Roaming\\nltk_data...\n",
      "[nltk_data]   Package punkt_tab is already up-to-date!\n"
     ]
    }
   ],
   "source": [
    "import nltk\n",
    "nltk.download('punkt_tab')\n",
    "from nltk.tokenize import sent_tokenize"
   ]
  },
  {
   "cell_type": "code",
   "execution_count": 30,
   "id": "4b93bc8e",
   "metadata": {},
   "outputs": [],
   "source": [
    "docs = sent_tokenize(corpus)"
   ]
  },
  {
   "cell_type": "code",
   "execution_count": 31,
   "id": "014889c0",
   "metadata": {},
   "outputs": [
    {
     "name": "stdout",
     "output_type": "stream",
     "text": [
      "(0, 'Hello team,\\nI hope you find this message well.')\n",
      "(1, \"I'm a GenAI Engineer looking for C2C roles with 7yr of IT exposure and consulting expertise.\")\n",
      "(2, 'I have developed Generative AI solutions like Rag systems architecture, LLM usecases and chatbots for information retrival.')\n",
      "(3, 'Lmk a good to connect for a quick intelluctual conversation on GenAI.')\n",
      "(4, 'Thanks and regards,\\nAbhi')\n"
     ]
    }
   ],
   "source": [
    "for x in enumerate(docs):\n",
    "    print(x)"
   ]
  },
  {
   "cell_type": "code",
   "execution_count": 32,
   "id": "3a5040dc",
   "metadata": {},
   "outputs": [],
   "source": [
    "# corpus to words \n",
    "#sentence/documents to words\n",
    "from nltk.tokenize import word_tokenize"
   ]
  },
  {
   "cell_type": "code",
   "execution_count": 33,
   "id": "6be4b197",
   "metadata": {},
   "outputs": [],
   "source": [
    "words = word_tokenize(corpus)"
   ]
  },
  {
   "cell_type": "code",
   "execution_count": 34,
   "id": "6978ebd3",
   "metadata": {},
   "outputs": [
    {
     "name": "stdout",
     "output_type": "stream",
     "text": [
      "(0, 'Hello')\n",
      "(1, 'team')\n",
      "(2, ',')\n",
      "(3, 'I')\n",
      "(4, 'hope')\n",
      "(5, 'you')\n",
      "(6, 'find')\n",
      "(7, 'this')\n",
      "(8, 'message')\n",
      "(9, 'well')\n",
      "(10, '.')\n",
      "(11, 'I')\n",
      "(12, \"'m\")\n",
      "(13, 'a')\n",
      "(14, 'GenAI')\n",
      "(15, 'Engineer')\n",
      "(16, 'looking')\n",
      "(17, 'for')\n",
      "(18, 'C2C')\n",
      "(19, 'roles')\n",
      "(20, 'with')\n",
      "(21, '7yr')\n",
      "(22, 'of')\n",
      "(23, 'IT')\n",
      "(24, 'exposure')\n",
      "(25, 'and')\n",
      "(26, 'consulting')\n",
      "(27, 'expertise')\n",
      "(28, '.')\n",
      "(29, 'I')\n",
      "(30, 'have')\n",
      "(31, 'developed')\n",
      "(32, 'Generative')\n",
      "(33, 'AI')\n",
      "(34, 'solutions')\n",
      "(35, 'like')\n",
      "(36, 'Rag')\n",
      "(37, 'systems')\n",
      "(38, 'architecture')\n",
      "(39, ',')\n",
      "(40, 'LLM')\n",
      "(41, 'usecases')\n",
      "(42, 'and')\n",
      "(43, 'chatbots')\n",
      "(44, 'for')\n",
      "(45, 'information')\n",
      "(46, 'retrival')\n",
      "(47, '.')\n",
      "(48, 'Lmk')\n",
      "(49, 'a')\n",
      "(50, 'good')\n",
      "(51, 'to')\n",
      "(52, 'connect')\n",
      "(53, 'for')\n",
      "(54, 'a')\n",
      "(55, 'quick')\n",
      "(56, 'intelluctual')\n",
      "(57, 'conversation')\n",
      "(58, 'on')\n",
      "(59, 'GenAI')\n",
      "(60, '.')\n",
      "(61, 'Thanks')\n",
      "(62, 'and')\n",
      "(63, 'regards')\n",
      "(64, ',')\n",
      "(65, 'Abhi')\n"
     ]
    }
   ],
   "source": [
    "for i in enumerate(words):\n",
    "    print(i)"
   ]
  },
  {
   "cell_type": "code",
   "execution_count": 35,
   "id": "a0fec9f9",
   "metadata": {},
   "outputs": [
    {
     "name": "stdout",
     "output_type": "stream",
     "text": [
      "1 Hello\n",
      "2 team\n",
      "3 ,\n",
      "4 I\n",
      "5 hope\n",
      "6 you\n",
      "7 find\n",
      "8 this\n",
      "9 message\n",
      "10 well\n",
      "11 .\n",
      "12 I\n",
      "13 'm\n",
      "14 a\n",
      "15 GenAI\n",
      "16 Engineer\n",
      "17 looking\n",
      "18 for\n",
      "19 C2C\n",
      "20 roles\n",
      "21 with\n",
      "22 7yr\n",
      "23 of\n",
      "24 IT\n",
      "25 exposure\n",
      "26 and\n",
      "27 consulting\n",
      "28 expertise\n",
      "29 .\n",
      "30 I\n",
      "31 have\n",
      "32 developed\n",
      "33 Generative\n",
      "34 AI\n",
      "35 solutions\n",
      "36 like\n",
      "37 Rag\n",
      "38 systems\n",
      "39 architecture\n",
      "40 ,\n",
      "41 LLM\n",
      "42 usecases\n",
      "43 and\n",
      "44 chatbots\n",
      "45 for\n",
      "46 information\n",
      "47 retrival\n",
      "48 .\n",
      "49 Lmk\n",
      "50 a\n",
      "51 good\n",
      "52 to\n",
      "53 connect\n",
      "54 for\n",
      "55 a\n",
      "56 quick\n",
      "57 intelluctual\n",
      "58 conversation\n",
      "59 on\n",
      "60 GenAI\n",
      "61 .\n",
      "62 Thanks\n",
      "63 and\n",
      "64 regards\n",
      "65 ,\n",
      "66 Abhi\n"
     ]
    }
   ],
   "source": [
    "# So basically this is code block youn will be seeing more ig\n",
    "count = 0\n",
    "for documents in sent_tokenize(corpus):\n",
    "    for words in word_tokenize(documents):\n",
    "        count+=1\n",
    "        print(count , words)\n",
    "     "
   ]
  },
  {
   "cell_type": "code",
   "execution_count": 36,
   "id": "7cc44e56",
   "metadata": {},
   "outputs": [],
   "source": [
    "# The only difference is it will split punctuations also \n",
    "# EX: Engineer's dream => Engineer    's   dream\n",
    "from nltk.tokenize import wordpunct_tokenize"
   ]
  },
  {
   "cell_type": "code",
   "execution_count": 37,
   "id": "7b03ef05",
   "metadata": {},
   "outputs": [
    {
     "data": {
      "text/plain": [
       "['Hello',\n",
       " 'team',\n",
       " ',',\n",
       " 'I',\n",
       " 'hope',\n",
       " 'you',\n",
       " 'find',\n",
       " 'this',\n",
       " 'message',\n",
       " 'well',\n",
       " '.',\n",
       " 'I',\n",
       " \"'\",\n",
       " 'm',\n",
       " 'a',\n",
       " 'GenAI',\n",
       " 'Engineer',\n",
       " 'looking',\n",
       " 'for',\n",
       " 'C2C',\n",
       " 'roles',\n",
       " 'with',\n",
       " '7yr',\n",
       " 'of',\n",
       " 'IT',\n",
       " 'exposure',\n",
       " 'and',\n",
       " 'consulting',\n",
       " 'expertise',\n",
       " '.',\n",
       " 'I',\n",
       " 'have',\n",
       " 'developed',\n",
       " 'Generative',\n",
       " 'AI',\n",
       " 'solutions',\n",
       " 'like',\n",
       " 'Rag',\n",
       " 'systems',\n",
       " 'architecture',\n",
       " ',',\n",
       " 'LLM',\n",
       " 'usecases',\n",
       " 'and',\n",
       " 'chatbots',\n",
       " 'for',\n",
       " 'information',\n",
       " 'retrival',\n",
       " '.',\n",
       " 'Lmk',\n",
       " 'a',\n",
       " 'good',\n",
       " 'to',\n",
       " 'connect',\n",
       " 'for',\n",
       " 'a',\n",
       " 'quick',\n",
       " 'intelluctual',\n",
       " 'conversation',\n",
       " 'on',\n",
       " 'GenAI',\n",
       " '.',\n",
       " 'Thanks',\n",
       " 'and',\n",
       " 'regards',\n",
       " ',',\n",
       " 'Abhi']"
      ]
     },
     "execution_count": 37,
     "metadata": {},
     "output_type": "execute_result"
    }
   ],
   "source": [
    "wordpunct_tokenize(corpus)"
   ]
  },
  {
   "cell_type": "code",
   "execution_count": 38,
   "id": "e5622d0e",
   "metadata": {},
   "outputs": [
    {
     "data": {
      "text/plain": [
       "['Hello',\n",
       " 'team',\n",
       " ',',\n",
       " 'I',\n",
       " 'hope',\n",
       " 'you',\n",
       " 'find',\n",
       " 'this',\n",
       " 'message',\n",
       " 'well.',\n",
       " 'I',\n",
       " \"'m\",\n",
       " 'a',\n",
       " 'GenAI',\n",
       " 'Engineer',\n",
       " 'looking',\n",
       " 'for',\n",
       " 'C2C',\n",
       " 'roles',\n",
       " 'with',\n",
       " '7yr',\n",
       " 'of',\n",
       " 'IT',\n",
       " 'exposure',\n",
       " 'and',\n",
       " 'consulting',\n",
       " 'expertise.',\n",
       " 'I',\n",
       " 'have',\n",
       " 'developed',\n",
       " 'Generative',\n",
       " 'AI',\n",
       " 'solutions',\n",
       " 'like',\n",
       " 'Rag',\n",
       " 'systems',\n",
       " 'architecture',\n",
       " ',',\n",
       " 'LLM',\n",
       " 'usecases',\n",
       " 'and',\n",
       " 'chatbots',\n",
       " 'for',\n",
       " 'information',\n",
       " 'retrival.',\n",
       " 'Lmk',\n",
       " 'a',\n",
       " 'good',\n",
       " 'to',\n",
       " 'connect',\n",
       " 'for',\n",
       " 'a',\n",
       " 'quick',\n",
       " 'intelluctual',\n",
       " 'conversation',\n",
       " 'on',\n",
       " 'GenAI.',\n",
       " 'Thanks',\n",
       " 'and',\n",
       " 'regards',\n",
       " ',',\n",
       " 'Abhi']"
      ]
     },
     "execution_count": 38,
     "metadata": {},
     "output_type": "execute_result"
    }
   ],
   "source": [
    "from nltk.tokenize import TreebankWordTokenizer\n",
    "tokenizer  = TreebankWordTokenizer()\n",
    "tokenizer.tokenize(corpus)"
   ]
  },
  {
   "cell_type": "code",
   "execution_count": null,
   "id": "887fcec3",
   "metadata": {},
   "outputs": [],
   "source": []
  }
 ],
 "metadata": {
  "kernelspec": {
   "display_name": "ml_venv",
   "language": "python",
   "name": "python3"
  },
  "language_info": {
   "codemirror_mode": {
    "name": "ipython",
    "version": 3
   },
   "file_extension": ".py",
   "mimetype": "text/x-python",
   "name": "python",
   "nbconvert_exporter": "python",
   "pygments_lexer": "ipython3",
   "version": "3.10.10"
  }
 },
 "nbformat": 4,
 "nbformat_minor": 5
}
